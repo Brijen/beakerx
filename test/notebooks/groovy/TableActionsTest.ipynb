{
 "cells": [
  {
   "cell_type": "code",
   "execution_count": 1,
   "metadata": {},
   "outputs": [
    {
     "data": {
      "application/vnd.jupyter.widget-view+json": {
       "model_id": "ad8b737a-b2ae-49a4-812b-35ec4979c9c9",
       "version_major": 2,
       "version_minor": 0
      },
      "method": "display_data"
     },
     "metadata": {},
     "output_type": "display_data"
    }
   ],
   "source": [
    "mapList = [\n",
    "   [a:1, b:2, c:3],\n",
    "   [a:4, b:5, c:6],\n",
    "   [a:7, b:8, c:5]\n",
    "]\n",
    "display1 = new TableDisplay(mapList)\n",
    "display1.addContextMenuItem(\"plusOne\") { row, col, tableDisplay ->\n",
    "   tableDisplay.values[row][col]++;\n",
    "}\n",
    "display1.addContextMenuItem(\"tag1ByStr\", \"tag1\");\n",
    "display1.addContextMenuItem(\"tag1ByClosure\") { row, col, tableDisplay ->\n",
    "   beakerx.runByTag(\"tag1\"); \n",
    "}\n",
    "display1"
   ]
  },
  {
   "cell_type": "code",
   "execution_count": 3,
   "metadata": {
    "tags": [
     "tag1"
    ]
   },
   "outputs": [
    {
     "name": "stdout",
     "output_type": "stream",
     "text": [
      "0:2=3"
     ]
    },
    {
     "data": {
      "text/plain": [
       "null"
      ]
     },
     "execution_count": 3,
     "metadata": {},
     "output_type": "execute_result"
    }
   ],
   "source": [
    "details = display1.details\n",
    "print(details.row + \":\" + details.col + \"=\" + display1.values[details.row][details.col])"
   ]
  },
  {
   "cell_type": "code",
   "execution_count": 4,
   "metadata": {},
   "outputs": [
    {
     "data": {
      "application/vnd.jupyter.widget-view+json": {
       "model_id": "2b47f5c9-3427-4518-b4eb-3d2bcdde9ba1",
       "version_major": 2,
       "version_minor": 0
      },
      "method": "display_data"
     },
     "metadata": {},
     "output_type": "display_data"
    }
   ],
   "source": [
    "display2 = new TableDisplay(mapList)\n",
    "display2.setDoubleClickAction { row, col, tableDisplay ->\n",
    "   tableDisplay.values[row][col]++;\n",
    "}\n",
    "display2"
   ]
  },
  {
   "cell_type": "code",
   "execution_count": 5,
   "metadata": {},
   "outputs": [
    {
     "data": {
      "application/vnd.jupyter.widget-view+json": {
       "model_id": "4662babb-da92-4757-86bb-faf7bff49c7f",
       "version_major": 2,
       "version_minor": 0
      },
      "method": "display_data"
     },
     "metadata": {},
     "output_type": "display_data"
    }
   ],
   "source": [
    "display3 = new TableDisplay(mapList)\n",
    "display3.setDoubleClickAction(\"tag3\")\n",
    "display3"
   ]
  },
  {
   "cell_type": "code",
   "execution_count": 6,
   "metadata": {
    "tags": [
     "tag3"
    ]
   },
   "outputs": [
    {
     "name": "stdout",
     "output_type": "stream",
     "text": [
      "0:1=2"
     ]
    },
    {
     "data": {
      "text/plain": [
       "null"
      ]
     },
     "execution_count": 6,
     "metadata": {},
     "output_type": "execute_result"
    }
   ],
   "source": [
    "details = display3.details\n",
    "print(details.row + \":\" + details.col + \"=\" + display3.values[details.row][details.col])"
   ]
  },
  {
   "cell_type": "code",
   "execution_count": 7,
   "metadata": {},
   "outputs": [
    {
     "data": {
      "application/vnd.jupyter.widget-view+json": {
       "model_id": "4722526c-6aa1-487b-bb9f-5131690dc511",
       "version_major": 2,
       "version_minor": 0
      },
      "method": "display_data"
     },
     "metadata": {},
     "output_type": "display_data"
    }
   ],
   "source": [
    "display4 = new TableDisplay(mapList)\n",
    "display4.setDoubleClickAction{ row, col, tableDisplay ->\n",
    "   beakerx.runByTag(\"tag4\");\n",
    "}\n",
    "display4"
   ]
  },
  {
   "cell_type": "code",
   "execution_count": null,
   "metadata": {
    "tags": [
     "tag4"
    ]
   },
   "outputs": [
    {
     "name": "stdout",
     "output_type": "stream",
     "text": [
      "0:2=3"
     ]
    }
   ],
   "source": [
    "details = display4.details\n",
    "print(details.row + \":\" + details.col + \"=\" + display4.values[details.row][details.col])"
   ]
  }
 ],
 "metadata": {
  "celltoolbar": "Tags",
  "kernelspec": {
   "display_name": "Groovy",
   "language": "groovy",
   "name": "groovy"
  },
  "language_info": {
   "codemirror_mode": "groovy",
   "file_extension": ".groovy",
   "mimetype": "",
   "name": "Groovy",
   "nbconverter_exporter": "",
   "version": "2.4.3"
  }
 },
 "nbformat": 4,
 "nbformat_minor": 2
}
